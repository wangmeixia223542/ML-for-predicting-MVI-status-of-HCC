{
 "cells": [
  {
   "cell_type": "markdown",
   "id": "f95694e6",
   "metadata": {},
   "source": [
    "## <font size=\"6\">10-fold cross-validation in training and all cohorts</font>"
   ]
  },
  {
   "cell_type": "code",
   "execution_count": 2,
   "id": "f2384fe9",
   "metadata": {},
   "outputs": [
    {
     "name": "stderr",
     "output_type": "stream",
     "text": [
      "D:\\onekey\\onekey_envs\\lib\\site-packages\\xgboost\\sklearn.py:1224: UserWarning: The use of label encoder in XGBClassifier is deprecated and will be removed in a future release. To remove this warning, do the following: 1) Pass option use_label_encoder=False when constructing XGBClassifier object; and 2) Encode your labels (y) as integers starting with 0, i.e. 0, 1, 2, ..., [num_class - 1].\n",
      "  warnings.warn(label_encoder_deprecation_msg, UserWarning)\n",
      "D:\\onekey\\onekey_envs\\lib\\site-packages\\xgboost\\sklearn.py:1224: UserWarning: The use of label encoder in XGBClassifier is deprecated and will be removed in a future release. To remove this warning, do the following: 1) Pass option use_label_encoder=False when constructing XGBClassifier object; and 2) Encode your labels (y) as integers starting with 0, i.e. 0, 1, 2, ..., [num_class - 1].\n",
      "  warnings.warn(label_encoder_deprecation_msg, UserWarning)\n"
     ]
    },
    {
     "name": "stdout",
     "output_type": "stream",
     "text": [
      "[23:23:23] WARNING: C:/Users/Administrator/workspace/xgboost-win64_release_1.5.1/src/learner.cc:1115: Starting in XGBoost 1.3.0, the default evaluation metric used with the objective 'binary:logistic' was changed from 'error' to 'logloss'. Explicitly set eval_metric if you'd like to restore the old behavior.\n",
      "[23:23:23] WARNING: C:/Users/Administrator/workspace/xgboost-win64_release_1.5.1/src/learner.cc:1115: Starting in XGBoost 1.3.0, the default evaluation metric used with the objective 'binary:logistic' was changed from 'error' to 'logloss'. Explicitly set eval_metric if you'd like to restore the old behavior.\n"
     ]
    },
    {
     "name": "stderr",
     "output_type": "stream",
     "text": [
      "D:\\onekey\\onekey_envs\\lib\\site-packages\\xgboost\\sklearn.py:1224: UserWarning: The use of label encoder in XGBClassifier is deprecated and will be removed in a future release. To remove this warning, do the following: 1) Pass option use_label_encoder=False when constructing XGBClassifier object; and 2) Encode your labels (y) as integers starting with 0, i.e. 0, 1, 2, ..., [num_class - 1].\n",
      "  warnings.warn(label_encoder_deprecation_msg, UserWarning)\n",
      "D:\\onekey\\onekey_envs\\lib\\site-packages\\xgboost\\sklearn.py:1224: UserWarning: The use of label encoder in XGBClassifier is deprecated and will be removed in a future release. To remove this warning, do the following: 1) Pass option use_label_encoder=False when constructing XGBClassifier object; and 2) Encode your labels (y) as integers starting with 0, i.e. 0, 1, 2, ..., [num_class - 1].\n",
      "  warnings.warn(label_encoder_deprecation_msg, UserWarning)\n"
     ]
    },
    {
     "name": "stdout",
     "output_type": "stream",
     "text": [
      "[23:23:23] WARNING: C:/Users/Administrator/workspace/xgboost-win64_release_1.5.1/src/learner.cc:1115: Starting in XGBoost 1.3.0, the default evaluation metric used with the objective 'binary:logistic' was changed from 'error' to 'logloss'. Explicitly set eval_metric if you'd like to restore the old behavior.\n",
      "[23:23:23] WARNING: C:/Users/Administrator/workspace/xgboost-win64_release_1.5.1/src/learner.cc:1115: Starting in XGBoost 1.3.0, the default evaluation metric used with the objective 'binary:logistic' was changed from 'error' to 'logloss'. Explicitly set eval_metric if you'd like to restore the old behavior.\n"
     ]
    },
    {
     "name": "stderr",
     "output_type": "stream",
     "text": [
      "D:\\onekey\\onekey_envs\\lib\\site-packages\\xgboost\\sklearn.py:1224: UserWarning: The use of label encoder in XGBClassifier is deprecated and will be removed in a future release. To remove this warning, do the following: 1) Pass option use_label_encoder=False when constructing XGBClassifier object; and 2) Encode your labels (y) as integers starting with 0, i.e. 0, 1, 2, ..., [num_class - 1].\n",
      "  warnings.warn(label_encoder_deprecation_msg, UserWarning)\n",
      "D:\\onekey\\onekey_envs\\lib\\site-packages\\xgboost\\sklearn.py:1224: UserWarning: The use of label encoder in XGBClassifier is deprecated and will be removed in a future release. To remove this warning, do the following: 1) Pass option use_label_encoder=False when constructing XGBClassifier object; and 2) Encode your labels (y) as integers starting with 0, i.e. 0, 1, 2, ..., [num_class - 1].\n",
      "  warnings.warn(label_encoder_deprecation_msg, UserWarning)\n"
     ]
    },
    {
     "name": "stdout",
     "output_type": "stream",
     "text": [
      "[23:23:23] WARNING: C:/Users/Administrator/workspace/xgboost-win64_release_1.5.1/src/learner.cc:1115: Starting in XGBoost 1.3.0, the default evaluation metric used with the objective 'binary:logistic' was changed from 'error' to 'logloss'. Explicitly set eval_metric if you'd like to restore the old behavior.\n",
      "[23:23:24] WARNING: C:/Users/Administrator/workspace/xgboost-win64_release_1.5.1/src/learner.cc:1115: Starting in XGBoost 1.3.0, the default evaluation metric used with the objective 'binary:logistic' was changed from 'error' to 'logloss'. Explicitly set eval_metric if you'd like to restore the old behavior.\n"
     ]
    },
    {
     "name": "stderr",
     "output_type": "stream",
     "text": [
      "D:\\onekey\\onekey_envs\\lib\\site-packages\\xgboost\\sklearn.py:1224: UserWarning: The use of label encoder in XGBClassifier is deprecated and will be removed in a future release. To remove this warning, do the following: 1) Pass option use_label_encoder=False when constructing XGBClassifier object; and 2) Encode your labels (y) as integers starting with 0, i.e. 0, 1, 2, ..., [num_class - 1].\n",
      "  warnings.warn(label_encoder_deprecation_msg, UserWarning)\n",
      "D:\\onekey\\onekey_envs\\lib\\site-packages\\xgboost\\sklearn.py:1224: UserWarning: The use of label encoder in XGBClassifier is deprecated and will be removed in a future release. To remove this warning, do the following: 1) Pass option use_label_encoder=False when constructing XGBClassifier object; and 2) Encode your labels (y) as integers starting with 0, i.e. 0, 1, 2, ..., [num_class - 1].\n",
      "  warnings.warn(label_encoder_deprecation_msg, UserWarning)\n"
     ]
    },
    {
     "name": "stdout",
     "output_type": "stream",
     "text": [
      "[23:23:24] WARNING: C:/Users/Administrator/workspace/xgboost-win64_release_1.5.1/src/learner.cc:1115: Starting in XGBoost 1.3.0, the default evaluation metric used with the objective 'binary:logistic' was changed from 'error' to 'logloss'. Explicitly set eval_metric if you'd like to restore the old behavior.\n",
      "[23:23:24] WARNING: C:/Users/Administrator/workspace/xgboost-win64_release_1.5.1/src/learner.cc:1115: Starting in XGBoost 1.3.0, the default evaluation metric used with the objective 'binary:logistic' was changed from 'error' to 'logloss'. Explicitly set eval_metric if you'd like to restore the old behavior.\n"
     ]
    },
    {
     "name": "stderr",
     "output_type": "stream",
     "text": [
      "D:\\onekey\\onekey_envs\\lib\\site-packages\\xgboost\\sklearn.py:1224: UserWarning: The use of label encoder in XGBClassifier is deprecated and will be removed in a future release. To remove this warning, do the following: 1) Pass option use_label_encoder=False when constructing XGBClassifier object; and 2) Encode your labels (y) as integers starting with 0, i.e. 0, 1, 2, ..., [num_class - 1].\n",
      "  warnings.warn(label_encoder_deprecation_msg, UserWarning)\n",
      "D:\\onekey\\onekey_envs\\lib\\site-packages\\xgboost\\sklearn.py:1224: UserWarning: The use of label encoder in XGBClassifier is deprecated and will be removed in a future release. To remove this warning, do the following: 1) Pass option use_label_encoder=False when constructing XGBClassifier object; and 2) Encode your labels (y) as integers starting with 0, i.e. 0, 1, 2, ..., [num_class - 1].\n",
      "  warnings.warn(label_encoder_deprecation_msg, UserWarning)\n"
     ]
    },
    {
     "name": "stdout",
     "output_type": "stream",
     "text": [
      "[23:23:24] WARNING: C:/Users/Administrator/workspace/xgboost-win64_release_1.5.1/src/learner.cc:1115: Starting in XGBoost 1.3.0, the default evaluation metric used with the objective 'binary:logistic' was changed from 'error' to 'logloss'. Explicitly set eval_metric if you'd like to restore the old behavior.\n",
      "[23:23:24] WARNING: C:/Users/Administrator/workspace/xgboost-win64_release_1.5.1/src/learner.cc:1115: Starting in XGBoost 1.3.0, the default evaluation metric used with the objective 'binary:logistic' was changed from 'error' to 'logloss'. Explicitly set eval_metric if you'd like to restore the old behavior.\n"
     ]
    },
    {
     "name": "stderr",
     "output_type": "stream",
     "text": [
      "D:\\onekey\\onekey_envs\\lib\\site-packages\\xgboost\\sklearn.py:1224: UserWarning: The use of label encoder in XGBClassifier is deprecated and will be removed in a future release. To remove this warning, do the following: 1) Pass option use_label_encoder=False when constructing XGBClassifier object; and 2) Encode your labels (y) as integers starting with 0, i.e. 0, 1, 2, ..., [num_class - 1].\n",
      "  warnings.warn(label_encoder_deprecation_msg, UserWarning)\n",
      "D:\\onekey\\onekey_envs\\lib\\site-packages\\xgboost\\sklearn.py:1224: UserWarning: The use of label encoder in XGBClassifier is deprecated and will be removed in a future release. To remove this warning, do the following: 1) Pass option use_label_encoder=False when constructing XGBClassifier object; and 2) Encode your labels (y) as integers starting with 0, i.e. 0, 1, 2, ..., [num_class - 1].\n",
      "  warnings.warn(label_encoder_deprecation_msg, UserWarning)\n"
     ]
    },
    {
     "name": "stdout",
     "output_type": "stream",
     "text": [
      "[23:23:25] WARNING: C:/Users/Administrator/workspace/xgboost-win64_release_1.5.1/src/learner.cc:1115: Starting in XGBoost 1.3.0, the default evaluation metric used with the objective 'binary:logistic' was changed from 'error' to 'logloss'. Explicitly set eval_metric if you'd like to restore the old behavior.\n",
      "[23:23:25] WARNING: C:/Users/Administrator/workspace/xgboost-win64_release_1.5.1/src/learner.cc:1115: Starting in XGBoost 1.3.0, the default evaluation metric used with the objective 'binary:logistic' was changed from 'error' to 'logloss'. Explicitly set eval_metric if you'd like to restore the old behavior.\n"
     ]
    },
    {
     "name": "stderr",
     "output_type": "stream",
     "text": [
      "D:\\onekey\\onekey_envs\\lib\\site-packages\\xgboost\\sklearn.py:1224: UserWarning: The use of label encoder in XGBClassifier is deprecated and will be removed in a future release. To remove this warning, do the following: 1) Pass option use_label_encoder=False when constructing XGBClassifier object; and 2) Encode your labels (y) as integers starting with 0, i.e. 0, 1, 2, ..., [num_class - 1].\n",
      "  warnings.warn(label_encoder_deprecation_msg, UserWarning)\n",
      "D:\\onekey\\onekey_envs\\lib\\site-packages\\xgboost\\sklearn.py:1224: UserWarning: The use of label encoder in XGBClassifier is deprecated and will be removed in a future release. To remove this warning, do the following: 1) Pass option use_label_encoder=False when constructing XGBClassifier object; and 2) Encode your labels (y) as integers starting with 0, i.e. 0, 1, 2, ..., [num_class - 1].\n",
      "  warnings.warn(label_encoder_deprecation_msg, UserWarning)\n"
     ]
    },
    {
     "name": "stdout",
     "output_type": "stream",
     "text": [
      "[23:23:25] WARNING: C:/Users/Administrator/workspace/xgboost-win64_release_1.5.1/src/learner.cc:1115: Starting in XGBoost 1.3.0, the default evaluation metric used with the objective 'binary:logistic' was changed from 'error' to 'logloss'. Explicitly set eval_metric if you'd like to restore the old behavior.\n",
      "[23:23:25] WARNING: C:/Users/Administrator/workspace/xgboost-win64_release_1.5.1/src/learner.cc:1115: Starting in XGBoost 1.3.0, the default evaluation metric used with the objective 'binary:logistic' was changed from 'error' to 'logloss'. Explicitly set eval_metric if you'd like to restore the old behavior.\n"
     ]
    },
    {
     "name": "stderr",
     "output_type": "stream",
     "text": [
      "D:\\onekey\\onekey_envs\\lib\\site-packages\\xgboost\\sklearn.py:1224: UserWarning: The use of label encoder in XGBClassifier is deprecated and will be removed in a future release. To remove this warning, do the following: 1) Pass option use_label_encoder=False when constructing XGBClassifier object; and 2) Encode your labels (y) as integers starting with 0, i.e. 0, 1, 2, ..., [num_class - 1].\n",
      "  warnings.warn(label_encoder_deprecation_msg, UserWarning)\n",
      "D:\\onekey\\onekey_envs\\lib\\site-packages\\xgboost\\sklearn.py:1224: UserWarning: The use of label encoder in XGBClassifier is deprecated and will be removed in a future release. To remove this warning, do the following: 1) Pass option use_label_encoder=False when constructing XGBClassifier object; and 2) Encode your labels (y) as integers starting with 0, i.e. 0, 1, 2, ..., [num_class - 1].\n",
      "  warnings.warn(label_encoder_deprecation_msg, UserWarning)\n"
     ]
    },
    {
     "name": "stdout",
     "output_type": "stream",
     "text": [
      "[23:23:25] WARNING: C:/Users/Administrator/workspace/xgboost-win64_release_1.5.1/src/learner.cc:1115: Starting in XGBoost 1.3.0, the default evaluation metric used with the objective 'binary:logistic' was changed from 'error' to 'logloss'. Explicitly set eval_metric if you'd like to restore the old behavior.\n",
      "[23:23:25] WARNING: C:/Users/Administrator/workspace/xgboost-win64_release_1.5.1/src/learner.cc:1115: Starting in XGBoost 1.3.0, the default evaluation metric used with the objective 'binary:logistic' was changed from 'error' to 'logloss'. Explicitly set eval_metric if you'd like to restore the old behavior.\n"
     ]
    },
    {
     "name": "stderr",
     "output_type": "stream",
     "text": [
      "D:\\onekey\\onekey_envs\\lib\\site-packages\\xgboost\\sklearn.py:1224: UserWarning: The use of label encoder in XGBClassifier is deprecated and will be removed in a future release. To remove this warning, do the following: 1) Pass option use_label_encoder=False when constructing XGBClassifier object; and 2) Encode your labels (y) as integers starting with 0, i.e. 0, 1, 2, ..., [num_class - 1].\n",
      "  warnings.warn(label_encoder_deprecation_msg, UserWarning)\n",
      "D:\\onekey\\onekey_envs\\lib\\site-packages\\xgboost\\sklearn.py:1224: UserWarning: The use of label encoder in XGBClassifier is deprecated and will be removed in a future release. To remove this warning, do the following: 1) Pass option use_label_encoder=False when constructing XGBClassifier object; and 2) Encode your labels (y) as integers starting with 0, i.e. 0, 1, 2, ..., [num_class - 1].\n",
      "  warnings.warn(label_encoder_deprecation_msg, UserWarning)\n"
     ]
    },
    {
     "name": "stdout",
     "output_type": "stream",
     "text": [
      "[23:23:26] WARNING: C:/Users/Administrator/workspace/xgboost-win64_release_1.5.1/src/learner.cc:1115: Starting in XGBoost 1.3.0, the default evaluation metric used with the objective 'binary:logistic' was changed from 'error' to 'logloss'. Explicitly set eval_metric if you'd like to restore the old behavior.\n",
      "[23:23:26] WARNING: C:/Users/Administrator/workspace/xgboost-win64_release_1.5.1/src/learner.cc:1115: Starting in XGBoost 1.3.0, the default evaluation metric used with the objective 'binary:logistic' was changed from 'error' to 'logloss'. Explicitly set eval_metric if you'd like to restore the old behavior.\n"
     ]
    },
    {
     "name": "stderr",
     "output_type": "stream",
     "text": [
      "D:\\onekey\\onekey_envs\\lib\\site-packages\\xgboost\\sklearn.py:1224: UserWarning: The use of label encoder in XGBClassifier is deprecated and will be removed in a future release. To remove this warning, do the following: 1) Pass option use_label_encoder=False when constructing XGBClassifier object; and 2) Encode your labels (y) as integers starting with 0, i.e. 0, 1, 2, ..., [num_class - 1].\n",
      "  warnings.warn(label_encoder_deprecation_msg, UserWarning)\n",
      "D:\\onekey\\onekey_envs\\lib\\site-packages\\xgboost\\sklearn.py:1224: UserWarning: The use of label encoder in XGBClassifier is deprecated and will be removed in a future release. To remove this warning, do the following: 1) Pass option use_label_encoder=False when constructing XGBClassifier object; and 2) Encode your labels (y) as integers starting with 0, i.e. 0, 1, 2, ..., [num_class - 1].\n",
      "  warnings.warn(label_encoder_deprecation_msg, UserWarning)\n"
     ]
    },
    {
     "name": "stdout",
     "output_type": "stream",
     "text": [
      "[23:23:26] WARNING: C:/Users/Administrator/workspace/xgboost-win64_release_1.5.1/src/learner.cc:1115: Starting in XGBoost 1.3.0, the default evaluation metric used with the objective 'binary:logistic' was changed from 'error' to 'logloss'. Explicitly set eval_metric if you'd like to restore the old behavior.\n",
      "[23:23:26] WARNING: C:/Users/Administrator/workspace/xgboost-win64_release_1.5.1/src/learner.cc:1115: Starting in XGBoost 1.3.0, the default evaluation metric used with the objective 'binary:logistic' was changed from 'error' to 'logloss'. Explicitly set eval_metric if you'd like to restore the old behavior.\n"
     ]
    }
   ],
   "source": [
    "import pandas as pd\n",
    "import numpy as np\n",
    "from sklearn.model_selection import StratifiedKFold\n",
    "from sklearn.metrics import roc_auc_score\n",
    "from imblearn.over_sampling import SMOTE\n",
    "from xgboost import XGBClassifier\n",
    "import matplotlib.pyplot as plt\n",
    "import os\n",
    "\n",
    "def process_file(file_path, output_folder):\n",
    "    # Data loading\n",
    "    data = pd.read_csv(file_path)\n",
    "\n",
    "    # Target Variable Isolation\n",
    "    X = data.iloc[:, 1:]  # Features start from the second column\n",
    "    y = data.iloc[:, 0]   # The first column is the target variable\n",
    "\n",
    "    # Initialize 10-fold cross-validation\n",
    "    skf = StratifiedKFold(n_splits=10, shuffle=True, random_state=0)\n",
    "\n",
    "    # Store results for each fold\n",
    "    auc_scores = []\n",
    "\n",
    "    # Cross-validation process\n",
    "    for fold, (train_index, test_index) in enumerate(skf.split(X, y), start=1):\n",
    "        X_train, X_test = X.iloc[train_index], X.iloc[test_index]\n",
    "        y_train, y_test = y[train_index], y.iloc[test_index]\n",
    "        \n",
    "        # SMOTE resampling for the training set only\n",
    "        smote = SMOTE(random_state=42)\n",
    "        X_train_resampled, y_train_resampled = smote.fit_resample(X_train, y_train)\n",
    "        \n",
    "        # Initialize XGBoost model with parameters\n",
    "        model = XGBClassifier(\n",
    "            n_estimators=500,\n",
    "            colsample_bytree=0.8,\n",
    "            learning_rate=0.01,\n",
    "            max_depth=7,\n",
    "            min_child_weight=10,\n",
    "            reg_alpha=0.1,\n",
    "            reg_lambda=1.0,\n",
    "            subsample=0.9,\n",
    "            gamma=0.1  \n",
    "        )\n",
    "        \n",
    "        # Train the model\n",
    "        model.fit(X_train_resampled, y_train_resampled)\n",
    "        \n",
    "        # Predict probabilities\n",
    "        y_pred_proba = model.predict_proba(X_test)[:, 1]\n",
    "        \n",
    "        # Calculate AUC\n",
    "        auc = roc_auc_score(y_test, y_pred_proba)\n",
    "        auc_scores.append({'Fold': fold, 'AUC': auc})\n",
    "\n",
    "    # Convert results to DataFrame\n",
    "    results_df = pd.DataFrame(auc_scores)\n",
    "\n",
    "    # Save to CSV file\n",
    "    output_path_csv = os.path.join(output_folder, f'AUC_Scores_{os.path.basename(file_path)}.csv')\n",
    "    results_df.to_csv(output_path_csv, index=False)\n",
    "\n",
    "    # Extract list of AUC scores\n",
    "    auc_scores_list = [item['AUC'] for item in auc_scores]\n",
    "\n",
    "    # Calculate mean AUC and standard deviation\n",
    "    mean_auc = np.mean(auc_scores_list)\n",
    "    std_auc = np.std(auc_scores_list)\n",
    "\n",
    "    # Plot AUC scores\n",
    "    plt.figure(figsize=(10, 6))\n",
    "    plt.plot(auc_scores_list, marker='o', linestyle='-', color='b')\n",
    "    plt.fill_between(range(1, len(auc_scores_list)+1), [mean_auc - std_auc]*len(auc_scores_list), [mean_auc + std_auc]*len(auc_scores_list), color='b', alpha=0.2)\n",
    "    plt.title(f'10-Fold Cross-Validation AUC Scores of {os.path.basename(file_path)}')\n",
    "    plt.xlabel('Fold')\n",
    "    plt.ylabel('AUC Score')\n",
    "    plt.grid(True)\n",
    "    plt.savefig(os.path.join(output_folder, f'AUC_Curve_{os.path.basename(file_path)}.svg'))\n",
    "    plt.close()\n",
    "\n",
    "# Folder path\n",
    "folder_path = r'the path of your own data'\n",
    "\n",
    "# List of file names\n",
    "file_names = ['All cohorts.csv', 'training.csv']#All features have been normalized\n",
    "\n",
    "# Output folder path\n",
    "output_folder = r'C:\\Users\\Admin\\Desktop'\n",
    "\n",
    "# Process each file\n",
    "for file_name in file_names:\n",
    "    file_path = os.path.join(folder_path, file_name)\n",
    "    process_file(file_path, output_folder)"
   ]
  },
  {
   "cell_type": "markdown",
   "id": "4099e9bd",
   "metadata": {},
   "source": [
    "## <font size=\"6\">Comparison of combined models and clinical models</font>"
   ]
  },
  {
   "cell_type": "code",
   "execution_count": 3,
   "id": "755894a5",
   "metadata": {},
   "outputs": [
    {
     "name": "stdout",
     "output_type": "stream",
     "text": [
      "File: E:\\第二次修\\Machine learning HCC with MVI\\Revised manuscript\\Final\\Delong test\\External validation.csv\n",
      "AUC1: 0.841, 95% CI: (0.08025553098312749, 0.9031001113478987)\n",
      "AUC2: 0.653, 95% CI: (0.07268773745536544, 0.9132377184051157)\n",
      "Sensitivity1: 0.720, Specificity1: 0.873, PPV1: 0.866, NPV1: 0.961\n",
      "Sensitivity2: 0.780, Specificity2: 0.525, PPV2: 0.758, NPV2: 0.834\n",
      "DeLong Test: Z = 2.867, P = 0.004\n",
      "------------------------------\n",
      "ROC curves saved to: C:\\Users\\Admin\\Desktop\\ROC_Curves_External validation.csv.svg\n",
      "File: E:\\第二次修\\Machine learning HCC with MVI\\Revised manuscript\\Final\\Delong test\\Internal validation.csv\n",
      "AUC1: 0.862, 95% CI: (0.07460633142706835, 0.9005768856830882)\n",
      "AUC2: 0.631, 95% CI: (0.07199382184862424, 0.9120450259509878)\n",
      "Sensitivity1: 0.880, Specificity1: 0.737, PPV1: 0.819, NPV1: 0.959\n",
      "Sensitivity2: 0.760, Specificity2: 0.561, PPV2: 0.755, NPV2: 0.842\n",
      "DeLong Test: Z = 2.505, P = 0.012\n",
      "------------------------------\n",
      "ROC curves saved to: C:\\Users\\Admin\\Desktop\\ROC_Curves_Internal validation.csv.svg\n",
      "File: E:\\第二次修\\Machine learning HCC with MVI\\Revised manuscript\\Final\\Delong test\\Training.csv\n",
      "AUC1: 0.874, 95% CI: (0.08168985028536058, 0.9031534795379598)\n",
      "AUC2: 0.756, 95% CI: (0.07254609326636619, 0.9055500316251198)\n",
      "Sensitivity1: 0.722, Specificity1: 0.890, PPV1: 0.881, NPV1: 0.967\n",
      "Sensitivity2: 0.588, Specificity2: 0.794, PPV2: 0.782, NPV2: 0.903\n",
      "DeLong Test: Z = 2.692, P = 0.007\n",
      "------------------------------\n",
      "ROC curves saved to: C:\\Users\\Admin\\Desktop\\ROC_Curves_Training.csv.svg\n"
     ]
    }
   ],
   "source": [
    "import pandas as pd\n",
    "from sklearn.metrics import roc_auc_score, roc_curve\n",
    "from statsmodels.stats.proportion import proportion_confint\n",
    "import numpy as np\n",
    "from scipy.stats import norm\n",
    "import matplotlib.pyplot as plt\n",
    "import os\n",
    "\n",
    "def process_file(file_path):\n",
    "    # Load data\n",
    "    data = pd.read_csv(file_path)\n",
    "\n",
    "    # Target classification variable and two predictor variables\n",
    "    y = data['label']\n",
    "    y_pred1 = data.iloc[:, 1]  # Second column variable\n",
    "    y_pred2 = data.iloc[:, 2]  # Third column variable\n",
    "\n",
    "    # Calculate AUC\n",
    "    auc1 = roc_auc_score(y, y_pred1)\n",
    "    auc2 = roc_auc_score(y, y_pred2)\n",
    "\n",
    "    # Calculate sensitivity, specificity, positive predictive value, negative predictive value, and their 95% confidence intervals\n",
    "    fpr1, tpr1, _ = roc_curve(y, y_pred1)\n",
    "    fpr2, tpr2, _ = roc_curve(y, y_pred2)\n",
    "\n",
    "    # Calculate optimal threshold (Youden's J statistic)\n",
    "    j_statistic1 = tpr1 - fpr1\n",
    "    j_index1 = np.argmax(j_statistic1)\n",
    "    threshold1 = fpr1[j_index1]\n",
    "\n",
    "    j_statistic2 = tpr2 - fpr2\n",
    "    j_index2 = np.argmax(j_statistic2)\n",
    "    threshold2 = fpr2[j_index2]\n",
    "\n",
    "    # Calculate sensitivity, specificity, positive predictive value, negative predictive value\n",
    "    sensitivity1 = tpr1[j_index1]\n",
    "    specificity1 = 1 - fpr1[j_index1]\n",
    "    ppv1 = sensitivity1 / (sensitivity1 + (1 - specificity1) * (1 - threshold1))\n",
    "    npv1 = specificity1 / (specificity1 + threshold1 * (1 - sensitivity1))\n",
    "\n",
    "    sensitivity2 = tpr2[j_index2]\n",
    "    specificity2 = 1 - fpr2[j_index2]\n",
    "    ppv2 = sensitivity2 / (sensitivity2 + (1 - specificity2) * (1 - threshold2))\n",
    "    npv2 = specificity2 / (specificity2 + threshold2 * (1 - sensitivity2))\n",
    "\n",
    "    # Calculate 95% confidence intervals\n",
    "    conf_int1 = proportion_confint(ppv1, ppv1 + npv1, method='wilson')\n",
    "    conf_int2 = proportion_confint(ppv2, ppv2 + npv2, method='wilson')\n",
    "\n",
    "    # DeLong test to compare two AUCs\n",
    "    def delong_test(auc1, auc2, n1, n2):\n",
    "        se1 = np.sqrt((auc1 * (1 - auc1) / n1) + (auc2 * (1 - auc2) / n2))\n",
    "        se2 = np.sqrt((auc2 * (1 - auc2) / n2) + (auc1 * (1 - auc1) / n1))\n",
    "        z = (auc1 - auc2) / np.sqrt(se1**2 + se2**2)\n",
    "        p = 2 * (1 - norm.cdf(abs(z)))\n",
    "        return z, p\n",
    "\n",
    "    z, p = delong_test(auc1, auc2, len(y), len(y))\n",
    "\n",
    "    # Print results\n",
    "    print(f'File: {file_path}')\n",
    "    print(f'AUC1: {auc1:.3f}, 95% CI: {conf_int1}')\n",
    "    print(f'AUC2: {auc2:.3f}, 95% CI: {conf_int2}')\n",
    "    print(f'Sensitivity1: {sensitivity1:.3f}, Specificity1: {specificity1:.3f}, PPV1: {ppv1:.3f}, NPV1: {npv1:.3f}')\n",
    "    print(f'Sensitivity2: {sensitivity2:.3f}, Specificity2: {specificity2:.3f}, PPV2: {ppv2:.3f}, NPV2: {npv2:.3f}')\n",
    "    print(f'DeLong Test: Z = {z:.3f}, P = {p:.3f}')\n",
    "    print('---' * 10)\n",
    "\n",
    "    # Plot ROC curves\n",
    "    plt.figure(figsize=(8, 8))\n",
    "    plt.plot(fpr1, tpr1, label=f'Combined model AUC = {auc1:.3f}')\n",
    "    plt.plot(fpr2, tpr2, label=f'Clinical model AUC = {auc2:.3f}')\n",
    "    plt.plot([0, 1], [0, 1], 'k--')  # Plot diagonal line\n",
    "    plt.xlabel('False Positive Rate')\n",
    "    plt.ylabel('True Positive Rate')\n",
    "    plt.title(f'ROC Curves for {os.path.basename(file_path)}')\n",
    "    plt.legend(loc='lower right')\n",
    "\n",
    "    # Save ROC curves to desktop\n",
    "    desktop_path = os.path.join(os.path.expanduser('~'), 'Desktop')\n",
    "    roc_plot_path = os.path.join(desktop_path, f'ROC_Curves_{os.path.basename(file_path)}.svg')\n",
    "    plt.savefig(roc_plot_path)\n",
    "    plt.close()\n",
    "\n",
    "    print(f'ROC curves saved to: {roc_plot_path}')\n",
    "\n",
    "# Folder path\n",
    "folder_path = r'the path of your own data'\n",
    "\n",
    "# List of file names\n",
    "file_names = ['External validation.csv', 'Internal validation.csv', 'Training.csv'] \n",
    "\n",
    "# Process each file\n",
    "for file_name in file_names:\n",
    "    file_path = os.path.join(folder_path, file_name)\n",
    "    process_file(file_path)"
   ]
  },
  {
   "cell_type": "code",
   "execution_count": null,
   "id": "ed8a54a1",
   "metadata": {},
   "outputs": [],
   "source": []
  }
 ],
 "metadata": {
  "kernelspec": {
   "display_name": "Python 3 (ipykernel)",
   "language": "python",
   "name": "python3"
  },
  "language_info": {
   "codemirror_mode": {
    "name": "ipython",
    "version": 3
   },
   "file_extension": ".py",
   "mimetype": "text/x-python",
   "name": "python",
   "nbconvert_exporter": "python",
   "pygments_lexer": "ipython3",
   "version": "3.7.12"
  }
 },
 "nbformat": 4,
 "nbformat_minor": 5
}
